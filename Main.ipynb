{
 "cells": [
  {
   "cell_type": "code",
   "execution_count": 2,
   "metadata": {},
   "outputs": [],
   "source": [
    "import matplotlib.pyplot as plt\n",
    "import numpy as np\n",
    "import pandas as pd\n",
    "import seaborn as sns\n",
    "%matplotlib inline"
   ]
  },
  {
   "cell_type": "markdown",
   "metadata": {},
   "source": [
    "# 3 KM"
   ]
  },
  {
   "cell_type": "code",
   "execution_count": 3,
   "metadata": {},
   "outputs": [],
   "source": [
    "df_3 = pd.read_excel(\"data/3_km.xls\", sheet_name='3 KM')"
   ]
  },
  {
   "cell_type": "code",
   "execution_count": 4,
   "metadata": {},
   "outputs": [
    {
     "name": "stdout",
     "output_type": "stream",
     "text": [
      "<class 'pandas.core.frame.DataFrame'>\n",
      "RangeIndex: 672 entries, 0 to 671\n",
      "Data columns (total 6 columns):\n",
      "Pos          672 non-null int64\n",
      "Стартовый    672 non-null int64\n",
      "Age          672 non-null int64\n",
      "Разворот     672 non-null object\n",
      "Финиш        672 non-null object\n",
      "Чип время    672 non-null object\n",
      "dtypes: int64(3), object(3)\n",
      "memory usage: 31.6+ KB\n"
     ]
    }
   ],
   "source": [
    "df_3.info()"
   ]
  },
  {
   "cell_type": "code",
   "execution_count": 5,
   "metadata": {},
   "outputs": [
    {
     "data": {
      "text/html": [
       "<div>\n",
       "<style scoped>\n",
       "    .dataframe tbody tr th:only-of-type {\n",
       "        vertical-align: middle;\n",
       "    }\n",
       "\n",
       "    .dataframe tbody tr th {\n",
       "        vertical-align: top;\n",
       "    }\n",
       "\n",
       "    .dataframe thead th {\n",
       "        text-align: right;\n",
       "    }\n",
       "</style>\n",
       "<table border=\"1\" class=\"dataframe\">\n",
       "  <thead>\n",
       "    <tr style=\"text-align: right;\">\n",
       "      <th></th>\n",
       "      <th>Pos</th>\n",
       "      <th>Стартовый</th>\n",
       "      <th>Age</th>\n",
       "      <th>Разворот</th>\n",
       "      <th>Финиш</th>\n",
       "      <th>Чип время</th>\n",
       "    </tr>\n",
       "  </thead>\n",
       "  <tbody>\n",
       "    <tr>\n",
       "      <th>0</th>\n",
       "      <td>1</td>\n",
       "      <td>15527</td>\n",
       "      <td>13</td>\n",
       "      <td>0:04:50</td>\n",
       "      <td>0:10:12</td>\n",
       "      <td>0:10:10</td>\n",
       "    </tr>\n",
       "    <tr>\n",
       "      <th>1</th>\n",
       "      <td>2</td>\n",
       "      <td>15802</td>\n",
       "      <td>14</td>\n",
       "      <td>0:04:51</td>\n",
       "      <td>0:10:49</td>\n",
       "      <td>0:10:46</td>\n",
       "    </tr>\n",
       "    <tr>\n",
       "      <th>2</th>\n",
       "      <td>3</td>\n",
       "      <td>16052</td>\n",
       "      <td>14</td>\n",
       "      <td>0:05:07</td>\n",
       "      <td>0:11:14</td>\n",
       "      <td>0:11:12</td>\n",
       "    </tr>\n",
       "    <tr>\n",
       "      <th>3</th>\n",
       "      <td>4</td>\n",
       "      <td>15984</td>\n",
       "      <td>14</td>\n",
       "      <td>0:05:08</td>\n",
       "      <td>0:11:20</td>\n",
       "      <td>0:11:18</td>\n",
       "    </tr>\n",
       "    <tr>\n",
       "      <th>4</th>\n",
       "      <td>5</td>\n",
       "      <td>15737</td>\n",
       "      <td>9</td>\n",
       "      <td>0:05:30</td>\n",
       "      <td>0:11:30</td>\n",
       "      <td>0:11:26</td>\n",
       "    </tr>\n",
       "  </tbody>\n",
       "</table>\n",
       "</div>"
      ],
      "text/plain": [
       "   Pos  Стартовый  Age Разворот    Финиш Чип время\n",
       "0    1      15527   13  0:04:50  0:10:12   0:10:10\n",
       "1    2      15802   14  0:04:51  0:10:49   0:10:46\n",
       "2    3      16052   14  0:05:07  0:11:14   0:11:12\n",
       "3    4      15984   14  0:05:08  0:11:20   0:11:18\n",
       "4    5      15737    9  0:05:30  0:11:30   0:11:26"
      ]
     },
     "execution_count": 5,
     "metadata": {},
     "output_type": "execute_result"
    }
   ],
   "source": [
    "df_3.head()"
   ]
  },
  {
   "cell_type": "code",
   "execution_count": 16,
   "metadata": {},
   "outputs": [
    {
     "data": {
      "text/plain": [
       "25"
      ]
     },
     "execution_count": 16,
     "metadata": {},
     "output_type": "execute_result"
    }
   ],
   "source": [
    "df_3['Age'].max()"
   ]
  },
  {
   "cell_type": "code",
   "execution_count": 32,
   "metadata": {},
   "outputs": [
    {
     "data": {
      "text/plain": [
       "35-49    142\n",
       "18-34    109\n",
       "60+       78\n",
       "50-59     74\n",
       "0-18       6\n",
       "Name: Age, dtype: int64"
      ]
     },
     "execution_count": 32,
     "metadata": {},
     "output_type": "execute_result"
    }
   ],
   "source": [
    "# df_3['age_groups'] = pd.cut([18, 34, 49, 59], bins=4)\n",
    "# pd.cut(df_10['Age'], [0, 18, 34, 49, 60]).value_counts()\n",
    "# df_10[\"Age\"]\n",
    "\n",
    "def age_group(df):\n",
    "    if 0<=df<=18:\n",
    "        return '0-18'\n",
    "    elif 18<=df<34:\n",
    "        return '18-34'\n",
    "    elif 35<=df<49:\n",
    "        return '35-49'\n",
    "    elif 50<=df<59:\n",
    "        return '50-59'\n",
    "    else:\n",
    "        return \"60+\"\n",
    "    \n",
    "# df['age_group'] = df_42['Age'].apply(age_group).value_counts()\n",
    "df_nordic['Age'].apply(age_group).value_counts()"
   ]
  },
  {
   "cell_type": "markdown",
   "metadata": {},
   "source": [
    "# 10 KM"
   ]
  },
  {
   "cell_type": "code",
   "execution_count": 18,
   "metadata": {},
   "outputs": [],
   "source": [
    "df_10 = pd.read_excel(\"data/10_km.xls\", sheet_name='10 KM')"
   ]
  },
  {
   "cell_type": "code",
   "execution_count": 10,
   "metadata": {
    "scrolled": true
   },
   "outputs": [
    {
     "data": {
      "text/html": [
       "<div>\n",
       "<style scoped>\n",
       "    .dataframe tbody tr th:only-of-type {\n",
       "        vertical-align: middle;\n",
       "    }\n",
       "\n",
       "    .dataframe tbody tr th {\n",
       "        vertical-align: top;\n",
       "    }\n",
       "\n",
       "    .dataframe thead th {\n",
       "        text-align: right;\n",
       "    }\n",
       "</style>\n",
       "<table border=\"1\" class=\"dataframe\">\n",
       "  <thead>\n",
       "    <tr style=\"text-align: right;\">\n",
       "      <th></th>\n",
       "      <th>Pos</th>\n",
       "      <th>Стартовый</th>\n",
       "      <th>Gender</th>\n",
       "      <th>Age</th>\n",
       "      <th>2.27 km Аль-Фараби Достык</th>\n",
       "      <th>Gun Time</th>\n",
       "      <th>Chip Time</th>\n",
       "    </tr>\n",
       "  </thead>\n",
       "  <tbody>\n",
       "    <tr>\n",
       "      <th>0</th>\n",
       "      <td>1</td>\n",
       "      <td>10816</td>\n",
       "      <td>M</td>\n",
       "      <td>26</td>\n",
       "      <td>0:08:06</td>\n",
       "      <td>0:32:31</td>\n",
       "      <td>0:32:30</td>\n",
       "    </tr>\n",
       "    <tr>\n",
       "      <th>1</th>\n",
       "      <td>2</td>\n",
       "      <td>7630</td>\n",
       "      <td>M</td>\n",
       "      <td>24</td>\n",
       "      <td>0:08:06</td>\n",
       "      <td>0:32:46</td>\n",
       "      <td>0:32:42</td>\n",
       "    </tr>\n",
       "    <tr>\n",
       "      <th>2</th>\n",
       "      <td>3</td>\n",
       "      <td>13919</td>\n",
       "      <td>M</td>\n",
       "      <td>27</td>\n",
       "      <td>0:08:07</td>\n",
       "      <td>0:34:02</td>\n",
       "      <td>0:34:01</td>\n",
       "    </tr>\n",
       "    <tr>\n",
       "      <th>3</th>\n",
       "      <td>4</td>\n",
       "      <td>6659</td>\n",
       "      <td>M</td>\n",
       "      <td>28</td>\n",
       "      <td>0:08:07</td>\n",
       "      <td>0:35:57</td>\n",
       "      <td>0:35:54</td>\n",
       "    </tr>\n",
       "    <tr>\n",
       "      <th>4</th>\n",
       "      <td>5</td>\n",
       "      <td>10090</td>\n",
       "      <td>M</td>\n",
       "      <td>17</td>\n",
       "      <td>0:08:21</td>\n",
       "      <td>0:36:05</td>\n",
       "      <td>0:35:58</td>\n",
       "    </tr>\n",
       "  </tbody>\n",
       "</table>\n",
       "</div>"
      ],
      "text/plain": [
       "   Pos  Стартовый Gender  Age 2.27 km Аль-Фараби Достык Gun Time Chip Time\n",
       "0    1      10816      M   26                   0:08:06  0:32:31   0:32:30\n",
       "1    2       7630      M   24                   0:08:06  0:32:46   0:32:42\n",
       "2    3      13919      M   27                   0:08:07  0:34:02   0:34:01\n",
       "3    4       6659      M   28                   0:08:07  0:35:57   0:35:54\n",
       "4    5      10090      M   17                   0:08:21  0:36:05   0:35:58"
      ]
     },
     "execution_count": 10,
     "metadata": {},
     "output_type": "execute_result"
    }
   ],
   "source": [
    "df_10.head()"
   ]
  },
  {
   "cell_type": "code",
   "execution_count": 9,
   "metadata": {},
   "outputs": [
    {
     "data": {
      "text/plain": [
       "0"
      ]
     },
     "execution_count": 9,
     "metadata": {},
     "output_type": "execute_result"
    }
   ],
   "source": [
    "len(df_10[df_10['Age']=='М'])"
   ]
  },
  {
   "cell_type": "markdown",
   "metadata": {},
   "source": [
    "# 21 KM"
   ]
  },
  {
   "cell_type": "code",
   "execution_count": 8,
   "metadata": {},
   "outputs": [],
   "source": [
    "df_21 = pd.read_excel(\"data/21_km.xls\", sheet_name='21 KM')"
   ]
  },
  {
   "cell_type": "code",
   "execution_count": 9,
   "metadata": {},
   "outputs": [
    {
     "data": {
      "text/html": [
       "<div>\n",
       "<style scoped>\n",
       "    .dataframe tbody tr th:only-of-type {\n",
       "        vertical-align: middle;\n",
       "    }\n",
       "\n",
       "    .dataframe tbody tr th {\n",
       "        vertical-align: top;\n",
       "    }\n",
       "\n",
       "    .dataframe thead th {\n",
       "        text-align: right;\n",
       "    }\n",
       "</style>\n",
       "<table border=\"1\" class=\"dataframe\">\n",
       "  <thead>\n",
       "    <tr style=\"text-align: right;\">\n",
       "      <th></th>\n",
       "      <th>Pos</th>\n",
       "      <th>Стартовый</th>\n",
       "      <th>Gender</th>\n",
       "      <th>Age</th>\n",
       "      <th>8.0 km ППП</th>\n",
       "      <th>12.0 km Абая Саина</th>\n",
       "      <th>Gun Time</th>\n",
       "      <th>Chip Time</th>\n",
       "    </tr>\n",
       "  </thead>\n",
       "  <tbody>\n",
       "    <tr>\n",
       "      <th>0</th>\n",
       "      <td>1</td>\n",
       "      <td>4266</td>\n",
       "      <td>M</td>\n",
       "      <td>27</td>\n",
       "      <td>0:27:45</td>\n",
       "      <td>0:41:00</td>\n",
       "      <td>1:10:28</td>\n",
       "      <td>1:09:46</td>\n",
       "    </tr>\n",
       "    <tr>\n",
       "      <th>1</th>\n",
       "      <td>2</td>\n",
       "      <td>3748</td>\n",
       "      <td>M</td>\n",
       "      <td>24</td>\n",
       "      <td>0:27:45</td>\n",
       "      <td>0:41:25</td>\n",
       "      <td>1:11:05</td>\n",
       "      <td>1:10:49</td>\n",
       "    </tr>\n",
       "    <tr>\n",
       "      <th>2</th>\n",
       "      <td>3</td>\n",
       "      <td>3760</td>\n",
       "      <td>M</td>\n",
       "      <td>30</td>\n",
       "      <td>0:28:14</td>\n",
       "      <td>0:42:14</td>\n",
       "      <td>1:13:23</td>\n",
       "      <td>1:13:23</td>\n",
       "    </tr>\n",
       "    <tr>\n",
       "      <th>3</th>\n",
       "      <td>4</td>\n",
       "      <td>5134</td>\n",
       "      <td>M</td>\n",
       "      <td>28</td>\n",
       "      <td>0:30:10</td>\n",
       "      <td>0:44:42</td>\n",
       "      <td>1:15:47</td>\n",
       "      <td>1:15:10</td>\n",
       "    </tr>\n",
       "    <tr>\n",
       "      <th>4</th>\n",
       "      <td>5</td>\n",
       "      <td>5823</td>\n",
       "      <td>M</td>\n",
       "      <td>33</td>\n",
       "      <td>0:30:05</td>\n",
       "      <td>0:44:42</td>\n",
       "      <td>1:16:57</td>\n",
       "      <td>1:16:32</td>\n",
       "    </tr>\n",
       "  </tbody>\n",
       "</table>\n",
       "</div>"
      ],
      "text/plain": [
       "   Pos  Стартовый Gender  Age 8.0 km ППП 12.0 km Абая Саина Gun Time Chip Time\n",
       "0    1       4266      M   27    0:27:45            0:41:00  1:10:28   1:09:46\n",
       "1    2       3748      M   24    0:27:45            0:41:25  1:11:05   1:10:49\n",
       "2    3       3760      M   30    0:28:14            0:42:14  1:13:23   1:13:23\n",
       "3    4       5134      M   28    0:30:10            0:44:42  1:15:47   1:15:10\n",
       "4    5       5823      M   33    0:30:05            0:44:42  1:16:57   1:16:32"
      ]
     },
     "execution_count": 9,
     "metadata": {},
     "output_type": "execute_result"
    }
   ],
   "source": [
    "df_21.head()"
   ]
  },
  {
   "cell_type": "markdown",
   "metadata": {},
   "source": [
    "# 42 KM"
   ]
  },
  {
   "cell_type": "code",
   "execution_count": 10,
   "metadata": {},
   "outputs": [],
   "source": [
    "df_42 = pd.read_excel(\"data/42_km.xls\", sheet_name='42 KM')"
   ]
  },
  {
   "cell_type": "code",
   "execution_count": 11,
   "metadata": {},
   "outputs": [
    {
     "data": {
      "text/html": [
       "<div>\n",
       "<style scoped>\n",
       "    .dataframe tbody tr th:only-of-type {\n",
       "        vertical-align: middle;\n",
       "    }\n",
       "\n",
       "    .dataframe tbody tr th {\n",
       "        vertical-align: top;\n",
       "    }\n",
       "\n",
       "    .dataframe thead th {\n",
       "        text-align: right;\n",
       "    }\n",
       "</style>\n",
       "<table border=\"1\" class=\"dataframe\">\n",
       "  <thead>\n",
       "    <tr style=\"text-align: right;\">\n",
       "      <th></th>\n",
       "      <th>Pos</th>\n",
       "      <th>Стартовый</th>\n",
       "      <th>Gender</th>\n",
       "      <th>Age</th>\n",
       "      <th>8.0 km ППП</th>\n",
       "      <th>12.0 km Абая Саина</th>\n",
       "      <th>21.0 km Площадь Республики</th>\n",
       "      <th>29.0 km ППП</th>\n",
       "      <th>33.0 km Абая Саина</th>\n",
       "      <th>Gun Time</th>\n",
       "      <th>Chip Time</th>\n",
       "    </tr>\n",
       "  </thead>\n",
       "  <tbody>\n",
       "    <tr>\n",
       "      <th>0</th>\n",
       "      <td>1</td>\n",
       "      <td>1103</td>\n",
       "      <td>M</td>\n",
       "      <td>30</td>\n",
       "      <td>0:28:10</td>\n",
       "      <td>0:42:07</td>\n",
       "      <td>NaN</td>\n",
       "      <td>1:43:34</td>\n",
       "      <td>1:57:29</td>\n",
       "      <td>2:28:34</td>\n",
       "      <td>2:28:31</td>\n",
       "    </tr>\n",
       "    <tr>\n",
       "      <th>1</th>\n",
       "      <td>2</td>\n",
       "      <td>1202</td>\n",
       "      <td>M</td>\n",
       "      <td>29</td>\n",
       "      <td>0:30:06</td>\n",
       "      <td>0:45:14</td>\n",
       "      <td>1:17:34</td>\n",
       "      <td>1:47:42</td>\n",
       "      <td>2:02:15</td>\n",
       "      <td>2:34:49</td>\n",
       "      <td>2:34:49</td>\n",
       "    </tr>\n",
       "    <tr>\n",
       "      <th>2</th>\n",
       "      <td>3</td>\n",
       "      <td>491</td>\n",
       "      <td>M</td>\n",
       "      <td>26</td>\n",
       "      <td>0:29:22</td>\n",
       "      <td>0:43:59</td>\n",
       "      <td>1:16:00</td>\n",
       "      <td>1:46:21</td>\n",
       "      <td>2:01:30</td>\n",
       "      <td>2:34:57</td>\n",
       "      <td>2:34:57</td>\n",
       "    </tr>\n",
       "    <tr>\n",
       "      <th>3</th>\n",
       "      <td>4</td>\n",
       "      <td>492</td>\n",
       "      <td>M</td>\n",
       "      <td>37</td>\n",
       "      <td>0:29:43</td>\n",
       "      <td>0:44:30</td>\n",
       "      <td>1:16:54</td>\n",
       "      <td>1:47:41</td>\n",
       "      <td>2:02:29</td>\n",
       "      <td>2:36:51</td>\n",
       "      <td>2:36:51</td>\n",
       "    </tr>\n",
       "    <tr>\n",
       "      <th>4</th>\n",
       "      <td>5</td>\n",
       "      <td>768</td>\n",
       "      <td>M</td>\n",
       "      <td>24</td>\n",
       "      <td>0:30:22</td>\n",
       "      <td>0:45:57</td>\n",
       "      <td>1:17:53</td>\n",
       "      <td>1:47:43</td>\n",
       "      <td>2:02:29</td>\n",
       "      <td>2:38:59</td>\n",
       "      <td>2:38:59</td>\n",
       "    </tr>\n",
       "  </tbody>\n",
       "</table>\n",
       "</div>"
      ],
      "text/plain": [
       "   Pos  Стартовый Gender  Age 8.0 km ППП 12.0 km Абая Саина  \\\n",
       "0    1       1103      M   30    0:28:10            0:42:07   \n",
       "1    2       1202      M   29    0:30:06            0:45:14   \n",
       "2    3        491      M   26    0:29:22            0:43:59   \n",
       "3    4        492      M   37    0:29:43            0:44:30   \n",
       "4    5        768      M   24    0:30:22            0:45:57   \n",
       "\n",
       "  21.0 km Площадь Республики 29.0 km ППП 33.0 km Абая Саина Gun Time Chip Time  \n",
       "0                        NaN     1:43:34            1:57:29  2:28:34   2:28:31  \n",
       "1                    1:17:34     1:47:42            2:02:15  2:34:49   2:34:49  \n",
       "2                    1:16:00     1:46:21            2:01:30  2:34:57   2:34:57  \n",
       "3                    1:16:54     1:47:41            2:02:29  2:36:51   2:36:51  \n",
       "4                    1:17:53     1:47:43            2:02:29  2:38:59   2:38:59  "
      ]
     },
     "execution_count": 11,
     "metadata": {},
     "output_type": "execute_result"
    }
   ],
   "source": [
    "df_42.head()"
   ]
  },
  {
   "cell_type": "markdown",
   "metadata": {},
   "source": [
    "# NORDIC"
   ]
  },
  {
   "cell_type": "code",
   "execution_count": 6,
   "metadata": {},
   "outputs": [],
   "source": [
    "df_nordic = pd.read_excel(\"data/nordic.xls\", sheet_name='NORDIC')"
   ]
  },
  {
   "cell_type": "code",
   "execution_count": 7,
   "metadata": {},
   "outputs": [
    {
     "data": {
      "text/html": [
       "<div>\n",
       "<style scoped>\n",
       "    .dataframe tbody tr th:only-of-type {\n",
       "        vertical-align: middle;\n",
       "    }\n",
       "\n",
       "    .dataframe tbody tr th {\n",
       "        vertical-align: top;\n",
       "    }\n",
       "\n",
       "    .dataframe thead th {\n",
       "        text-align: right;\n",
       "    }\n",
       "</style>\n",
       "<table border=\"1\" class=\"dataframe\">\n",
       "  <thead>\n",
       "    <tr style=\"text-align: right;\">\n",
       "      <th></th>\n",
       "      <th>Pos</th>\n",
       "      <th>Стартовый</th>\n",
       "      <th>Gender</th>\n",
       "      <th>Age</th>\n",
       "      <th>2.27 km</th>\n",
       "      <th>Gun Time</th>\n",
       "      <th>Chip Time</th>\n",
       "    </tr>\n",
       "  </thead>\n",
       "  <tbody>\n",
       "    <tr>\n",
       "      <th>0</th>\n",
       "      <td>3</td>\n",
       "      <td>15170</td>\n",
       "      <td>M</td>\n",
       "      <td>17</td>\n",
       "      <td>0:07:58</td>\n",
       "      <td>1:00:14</td>\n",
       "      <td>1:00:14</td>\n",
       "    </tr>\n",
       "    <tr>\n",
       "      <th>1</th>\n",
       "      <td>4</td>\n",
       "      <td>15171</td>\n",
       "      <td>M</td>\n",
       "      <td>17</td>\n",
       "      <td>0:07:39</td>\n",
       "      <td>1:00:15</td>\n",
       "      <td>1:00:15</td>\n",
       "    </tr>\n",
       "    <tr>\n",
       "      <th>2</th>\n",
       "      <td>5</td>\n",
       "      <td>15159</td>\n",
       "      <td>M</td>\n",
       "      <td>37</td>\n",
       "      <td>0:13:56</td>\n",
       "      <td>1:03:01</td>\n",
       "      <td>1:03:01</td>\n",
       "    </tr>\n",
       "    <tr>\n",
       "      <th>3</th>\n",
       "      <td>6</td>\n",
       "      <td>15167</td>\n",
       "      <td>M</td>\n",
       "      <td>41</td>\n",
       "      <td>0:07:04</td>\n",
       "      <td>1:03:10</td>\n",
       "      <td>1:03:10</td>\n",
       "    </tr>\n",
       "    <tr>\n",
       "      <th>4</th>\n",
       "      <td>7</td>\n",
       "      <td>14753</td>\n",
       "      <td>M</td>\n",
       "      <td>37</td>\n",
       "      <td>0:12:39</td>\n",
       "      <td>1:05:50</td>\n",
       "      <td>1:05:50</td>\n",
       "    </tr>\n",
       "  </tbody>\n",
       "</table>\n",
       "</div>"
      ],
      "text/plain": [
       "   Pos  Стартовый Gender  Age  2.27 km Gun Time Chip Time\n",
       "0    3      15170      M   17  0:07:58  1:00:14   1:00:14\n",
       "1    4      15171      M   17  0:07:39  1:00:15   1:00:15\n",
       "2    5      15159      M   37  0:13:56  1:03:01   1:03:01\n",
       "3    6      15167      M   41  0:07:04  1:03:10   1:03:10\n",
       "4    7      14753      M   37  0:12:39  1:05:50   1:05:50"
      ]
     },
     "execution_count": 7,
     "metadata": {},
     "output_type": "execute_result"
    }
   ],
   "source": [
    "df_nordic.head()"
   ]
  },
  {
   "cell_type": "code",
   "execution_count": null,
   "metadata": {},
   "outputs": [],
   "source": []
  }
 ],
 "metadata": {
  "kernelspec": {
   "display_name": "Python 3",
   "language": "python",
   "name": "python3"
  },
  "language_info": {
   "codemirror_mode": {
    "name": "ipython",
    "version": 3
   },
   "file_extension": ".py",
   "mimetype": "text/x-python",
   "name": "python",
   "nbconvert_exporter": "python",
   "pygments_lexer": "ipython3",
   "version": "3.7.3"
  }
 },
 "nbformat": 4,
 "nbformat_minor": 4
}
