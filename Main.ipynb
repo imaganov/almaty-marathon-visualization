{
 "cells": [
  {
   "cell_type": "code",
   "execution_count": 2,
   "metadata": {},
   "outputs": [],
   "source": [
    "import matplotlib.pyplot as plt\n",
    "import numpy as np\n",
    "import pandas as pd\n",
    "import seaborn as sns\n",
    "%matplotlib inline"
   ]
  },
  {
   "cell_type": "markdown",
   "metadata": {},
   "source": [
    "# 3 KM"
   ]
  },
  {
   "cell_type": "code",
   "execution_count": 3,
   "metadata": {},
   "outputs": [],
   "source": [
    "df_3 = pd.read_excel(\"data/3_km.xls\", sheet_name='3 KM')"
   ]
  },
  {
   "cell_type": "code",
   "execution_count": 4,
   "metadata": {},
   "outputs": [
    {
     "name": "stdout",
     "output_type": "stream",
     "text": [
      "<class 'pandas.core.frame.DataFrame'>\n",
      "RangeIndex: 672 entries, 0 to 671\n",
      "Data columns (total 6 columns):\n",
      "Pos          672 non-null int64\n",
      "Стартовый    672 non-null int64\n",
      "Age          672 non-null int64\n",
      "Разворот     672 non-null object\n",
      "Финиш        672 non-null object\n",
      "Чип время    672 non-null object\n",
      "dtypes: int64(3), object(3)\n",
      "memory usage: 31.6+ KB\n"
     ]
    }
   ],
   "source": [
    "df_3.info()"
   ]
  },
  {
   "cell_type": "code",
   "execution_count": 5,
   "metadata": {},
   "outputs": [
    {
     "data": {
      "text/html": [
       "<div>\n",
       "<style scoped>\n",
       "    .dataframe tbody tr th:only-of-type {\n",
       "        vertical-align: middle;\n",
       "    }\n",
       "\n",
       "    .dataframe tbody tr th {\n",
       "        vertical-align: top;\n",
       "    }\n",
       "\n",
       "    .dataframe thead th {\n",
       "        text-align: right;\n",
       "    }\n",
       "</style>\n",
       "<table border=\"1\" class=\"dataframe\">\n",
       "  <thead>\n",
       "    <tr style=\"text-align: right;\">\n",
       "      <th></th>\n",
       "      <th>Pos</th>\n",
       "      <th>Стартовый</th>\n",
       "      <th>Age</th>\n",
       "      <th>Разворот</th>\n",
       "      <th>Финиш</th>\n",
       "      <th>Чип время</th>\n",
       "    </tr>\n",
       "  </thead>\n",
       "  <tbody>\n",
       "    <tr>\n",
       "      <th>0</th>\n",
       "      <td>1</td>\n",
       "      <td>15527</td>\n",
       "      <td>13</td>\n",
       "      <td>0:04:50</td>\n",
       "      <td>0:10:12</td>\n",
       "      <td>0:10:10</td>\n",
       "    </tr>\n",
       "    <tr>\n",
       "      <th>1</th>\n",
       "      <td>2</td>\n",
       "      <td>15802</td>\n",
       "      <td>14</td>\n",
       "      <td>0:04:51</td>\n",
       "      <td>0:10:49</td>\n",
       "      <td>0:10:46</td>\n",
       "    </tr>\n",
       "    <tr>\n",
       "      <th>2</th>\n",
       "      <td>3</td>\n",
       "      <td>16052</td>\n",
       "      <td>14</td>\n",
       "      <td>0:05:07</td>\n",
       "      <td>0:11:14</td>\n",
       "      <td>0:11:12</td>\n",
       "    </tr>\n",
       "    <tr>\n",
       "      <th>3</th>\n",
       "      <td>4</td>\n",
       "      <td>15984</td>\n",
       "      <td>14</td>\n",
       "      <td>0:05:08</td>\n",
       "      <td>0:11:20</td>\n",
       "      <td>0:11:18</td>\n",
       "    </tr>\n",
       "    <tr>\n",
       "      <th>4</th>\n",
       "      <td>5</td>\n",
       "      <td>15737</td>\n",
       "      <td>9</td>\n",
       "      <td>0:05:30</td>\n",
       "      <td>0:11:30</td>\n",
       "      <td>0:11:26</td>\n",
       "    </tr>\n",
       "  </tbody>\n",
       "</table>\n",
       "</div>"
      ],
      "text/plain": [
       "   Pos  Стартовый  Age Разворот    Финиш Чип время\n",
       "0    1      15527   13  0:04:50  0:10:12   0:10:10\n",
       "1    2      15802   14  0:04:51  0:10:49   0:10:46\n",
       "2    3      16052   14  0:05:07  0:11:14   0:11:12\n",
       "3    4      15984   14  0:05:08  0:11:20   0:11:18\n",
       "4    5      15737    9  0:05:30  0:11:30   0:11:26"
      ]
     },
     "execution_count": 5,
     "metadata": {},
     "output_type": "execute_result"
    }
   ],
   "source": [
    "df_3.head()"
   ]
  },
  {
   "cell_type": "code",
   "execution_count": 6,
   "metadata": {},
   "outputs": [
    {
     "name": "stderr",
     "output_type": "stream",
     "text": [
      "//anaconda3/lib/python3.7/site-packages/pandas/core/ops.py:1649: FutureWarning: elementwise comparison failed; returning scalar instead, but in the future will perform elementwise comparison\n",
      "  result = method(y)\n"
     ]
    },
    {
     "data": {
      "text/plain": [
       "0"
      ]
     },
     "execution_count": 6,
     "metadata": {},
     "output_type": "execute_result"
    }
   ],
   "source": []
  },
  {
   "cell_type": "markdown",
   "metadata": {},
   "source": [
    "# 10 KM"
   ]
  },
  {
   "cell_type": "code",
   "execution_count": 7,
   "metadata": {},
   "outputs": [],
   "source": [
    "df_10 = pd.read_excel(\"data/10_km.xls\", sheet_name='10 KM')"
   ]
  },
  {
   "cell_type": "code",
   "execution_count": 10,
   "metadata": {
    "scrolled": true
   },
   "outputs": [
    {
     "data": {
      "text/html": [
       "<div>\n",
       "<style scoped>\n",
       "    .dataframe tbody tr th:only-of-type {\n",
       "        vertical-align: middle;\n",
       "    }\n",
       "\n",
       "    .dataframe tbody tr th {\n",
       "        vertical-align: top;\n",
       "    }\n",
       "\n",
       "    .dataframe thead th {\n",
       "        text-align: right;\n",
       "    }\n",
       "</style>\n",
       "<table border=\"1\" class=\"dataframe\">\n",
       "  <thead>\n",
       "    <tr style=\"text-align: right;\">\n",
       "      <th></th>\n",
       "      <th>Pos</th>\n",
       "      <th>Стартовый</th>\n",
       "      <th>Gender</th>\n",
       "      <th>Age</th>\n",
       "      <th>2.27 km Аль-Фараби Достык</th>\n",
       "      <th>Gun Time</th>\n",
       "      <th>Chip Time</th>\n",
       "    </tr>\n",
       "  </thead>\n",
       "  <tbody>\n",
       "    <tr>\n",
       "      <th>0</th>\n",
       "      <td>1</td>\n",
       "      <td>10816</td>\n",
       "      <td>M</td>\n",
       "      <td>26</td>\n",
       "      <td>0:08:06</td>\n",
       "      <td>0:32:31</td>\n",
       "      <td>0:32:30</td>\n",
       "    </tr>\n",
       "    <tr>\n",
       "      <th>1</th>\n",
       "      <td>2</td>\n",
       "      <td>7630</td>\n",
       "      <td>M</td>\n",
       "      <td>24</td>\n",
       "      <td>0:08:06</td>\n",
       "      <td>0:32:46</td>\n",
       "      <td>0:32:42</td>\n",
       "    </tr>\n",
       "    <tr>\n",
       "      <th>2</th>\n",
       "      <td>3</td>\n",
       "      <td>13919</td>\n",
       "      <td>M</td>\n",
       "      <td>27</td>\n",
       "      <td>0:08:07</td>\n",
       "      <td>0:34:02</td>\n",
       "      <td>0:34:01</td>\n",
       "    </tr>\n",
       "    <tr>\n",
       "      <th>3</th>\n",
       "      <td>4</td>\n",
       "      <td>6659</td>\n",
       "      <td>M</td>\n",
       "      <td>28</td>\n",
       "      <td>0:08:07</td>\n",
       "      <td>0:35:57</td>\n",
       "      <td>0:35:54</td>\n",
       "    </tr>\n",
       "    <tr>\n",
       "      <th>4</th>\n",
       "      <td>5</td>\n",
       "      <td>10090</td>\n",
       "      <td>M</td>\n",
       "      <td>17</td>\n",
       "      <td>0:08:21</td>\n",
       "      <td>0:36:05</td>\n",
       "      <td>0:35:58</td>\n",
       "    </tr>\n",
       "  </tbody>\n",
       "</table>\n",
       "</div>"
      ],
      "text/plain": [
       "   Pos  Стартовый Gender  Age 2.27 km Аль-Фараби Достык Gun Time Chip Time\n",
       "0    1      10816      M   26                   0:08:06  0:32:31   0:32:30\n",
       "1    2       7630      M   24                   0:08:06  0:32:46   0:32:42\n",
       "2    3      13919      M   27                   0:08:07  0:34:02   0:34:01\n",
       "3    4       6659      M   28                   0:08:07  0:35:57   0:35:54\n",
       "4    5      10090      M   17                   0:08:21  0:36:05   0:35:58"
      ]
     },
     "execution_count": 10,
     "metadata": {},
     "output_type": "execute_result"
    }
   ],
   "source": [
    "df_10.head()"
   ]
  },
  {
   "cell_type": "code",
   "execution_count": 9,
   "metadata": {},
   "outputs": [
    {
     "data": {
      "text/plain": [
       "0"
      ]
     },
     "execution_count": 9,
     "metadata": {},
     "output_type": "execute_result"
    }
   ],
   "source": [
    "len(df_10[df_10['Age']=='М'])"
   ]
  },
  {
   "cell_type": "code",
   "execution_count": 9,
   "metadata": {},
   "outputs": [
    {
     "name": "stderr",
     "output_type": "stream",
     "text": [
      "MovieWriter imagemagick unavailable; trying to use <class 'matplotlib.animation.PillowWriter'> instead.\n"
     ]
    },
    {
     "data": {
      "image/png": "[encoded data removed]",
      "text/plain": [
       "<Figure size 432x288 with 1 Axes>"
      ]
     },
     "metadata": {},
     "output_type": "display_data"
    }
   ],
   "source": [
    "import matplotlib.animation as animation \n",
    "plt.style.use('dark_background')\n",
    "\n",
    "fig = plt.figure() \n",
    "ax = plt.axes(xlim=(-50, 50), ylim=(-50, 50)) \n",
    "line, = ax.plot([], [], lw=2) \n",
    "\n",
    "# initialization function \n",
    "def init(): \n",
    "\t# creating an empty plot/frame \n",
    "\tline.set_data([], []) \n",
    "\treturn line, \n",
    "\n",
    "# lists to store x and y axis points \n",
    "xdata, ydata = [], [] \n",
    "\n",
    "# animation function \n",
    "def animate(i): \n",
    "\t# t is a parameter \n",
    "\tt = 0.1*i \n",
    "\t\n",
    "\t# x, y values to be plotted \n",
    "\tx = t*np.sin(t) \n",
    "\ty = t*np.cos(t) \n",
    "\t\n",
    "\t# appending new points to x, y axes points list \n",
    "\txdata.append(x) \n",
    "\tydata.append(y) \n",
    "\tline.set_data(xdata, ydata) \n",
    "\treturn line, \n",
    "\t\n",
    "# setting a title for the plot \n",
    "plt.title('Creating a growing coil with matplotlib!') \n",
    "# hiding the axis details \n",
    "plt.axis('off') \n",
    "\n",
    "# call the animator\t \n",
    "anim = animation.FuncAnimation(fig, animate, init_func=init, \n",
    "\t\t\t\t\t\t\tframes=500, interval=20, blit=True)\n",
    "anim.save('coil.gif',writer='imagemagick') "
   ]
  },
  {
   "cell_type": "code",
   "execution_count": 7,
   "metadata": {},
   "outputs": [
    {
     "data": {
      "image/png": "[encoded data removed]",
      "text/plain": [
       "<Figure size 432x288 with 1 Axes>"
      ]
     },
     "metadata": {},
     "output_type": "display_data"
    }
   ],
   "source": [
    "import matplotlib.pyplot as plt\n",
    "import numpy as np\n",
    "import matplotlib.animation as animation\n",
    "import matplotlib.patches as patches\n",
    "\n",
    "fig = plt.figure()\n",
    "ax = fig.add_subplot(111)\n",
    "ax.set_xlim(-10,10)\n",
    "ax.set_ylim(-10,10)\n",
    "\n",
    "v= np.array([\n",
    "    [0., -0.25],  \n",
    "    [0.5, 0.],  \n",
    "    [0., 0.25]\n",
    "    ])\n",
    "\n",
    "patch = patches.Polygon(v,closed=True, fc='r', ec='r')\n",
    "ax.add_patch(patch)\n",
    "\n",
    "def init():\n",
    "    return patch,\n",
    "\n",
    "def animate(i):\n",
    "    v[:,0]+=i\n",
    "    patch.set_xy(v)\n",
    "    return patch,\n",
    "\n",
    "ani = animation.FuncAnimation(fig, animate, np.arange(1, 5), init_func=init,\n",
    "                              interval=1000, blit=True)\n",
    "plt.show()"
   ]
  },
  {
   "cell_type": "code",
   "execution_count": 1,
   "metadata": {},
   "outputs": [],
   "source": [
    "from bokeh.plotting import figure, output_file, show\n",
    "\n",
    "# prepare some data\n",
    "x = [1, 2, 3, 4, 5]\n",
    "y = [6, 7, 2, 4, 5]\n",
    "\n",
    "# output to static HTML file\n",
    "output_file(\"lines.html\")\n",
    "\n",
    "# create a new plot with a title and axis labels\n",
    "p = figure(title=\"simple line example\", x_axis_label='x', y_axis_label='y')\n",
    "\n",
    "# add a line renderer with legend and line thickness\n",
    "p.line(x, y, legend=\"Temp.\", line_width=2)\n",
    "\n",
    "# show the results\n",
    "show(p)"
   ]
  },
  {
   "cell_type": "code",
   "execution_count": 2,
   "metadata": {},
   "outputs": [],
   "source": [
    "import numpy as np\n",
    "\n",
    "from bokeh.plotting import figure, output_file, show\n",
    "\n",
    "# prepare some data\n",
    "N = 4000\n",
    "x = np.random.random(size=N) * 100\n",
    "y = np.random.random(size=N) * 100\n",
    "radii = np.random.random(size=N) * 1.5\n",
    "colors = [\n",
    "    \"#%02x%02x%02x\" % (int(r), int(g), 150) for r, g in zip(50+2*x, 30+2*y)\n",
    "]\n",
    "\n",
    "# output to static HTML file (with CDN resources)\n",
    "output_file(\"color_scatter.html\", title=\"color_scatter.py example\", mode=\"cdn\")\n",
    "\n",
    "TOOLS = \"crosshair,pan,wheel_zoom,box_zoom,reset,box_select,lasso_select\"\n",
    "\n",
    "# create a new plot with the tools above, and explicit ranges\n",
    "p = figure(tools=TOOLS, x_range=(0, 100), y_range=(0, 100))\n",
    "\n",
    "# add a circle renderer with vectorized colors and sizes\n",
    "p.circle(x, y, radius=radii, fill_color=colors, fill_alpha=0.6, line_color=None)\n",
    "\n",
    "# show the results\n",
    "show(p)"
   ]
  },
  {
   "cell_type": "markdown",
   "metadata": {},
   "source": [
    "# 21 KM"
   ]
  },
  {
   "cell_type": "markdown",
   "metadata": {},
   "source": [
    "# 42 KM"
   ]
  },
  {
   "cell_type": "code",
   "execution_count": null,
   "metadata": {},
   "outputs": [],
   "source": []
  },
  {
   "cell_type": "markdown",
   "metadata": {},
   "source": [
    "# NORDIC"
   ]
  },
  {
   "cell_type": "code",
   "execution_count": null,
   "metadata": {},
   "outputs": [],
   "source": []
  }
 ],
 "metadata": {
  "kernelspec": {
   "display_name": "Python 3",
   "language": "python",
   "name": "python3"
  },
  "language_info": {
   "codemirror_mode": {
    "name": "ipython",
    "version": 3
   },
   "file_extension": ".py",
   "mimetype": "text/x-python",
   "name": "python",
   "nbconvert_exporter": "python",
   "pygments_lexer": "ipython3",
   "version": "3.7.3"
  }
 },
 "nbformat": 4,
 "nbformat_minor": 4
}
